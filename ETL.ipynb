{
 "cells": [
  {
   "cell_type": "code",
   "execution_count": 1,
   "id": "17bbcab6",
   "metadata": {},
   "outputs": [],
   "source": [
    "import requests\n",
    "import pandas as pd"
   ]
  },
  {
   "cell_type": "markdown",
   "id": "340b72e5",
   "metadata": {},
   "source": [
    "# 1. GET DATA THROUGH API"
   ]
  },
  {
   "cell_type": "code",
   "execution_count": 2,
   "id": "84ef9eb3",
   "metadata": {},
   "outputs": [],
   "source": [
    "def getResponse(URL):\n",
    "    # send request\n",
    "    HEADERS = {'User-Agent': 'Mozilla/5.0 (Windows NT 6.1; WOW64) AppleWebKit/537.36 (KHTML, like Gecko) Chrome/56.0.2924.76 Safari/537.36', \"Upgrade-Insecure-Requests\": \"1\",\"DNT\": \"1\",\"Accept\": \"text/html,application/xhtml+xml,application/xml;q=0.9,*/*;q=0.8\",\"Accept-Language\": \"en-US,en;q=0.5\",\"Accept-Encoding\": \"gzip, deflate\",\n",
    "              \"Cookie\": \"TEST\"}\n",
    "    r = requests.get(url=URL, headers=HEADERS)\n",
    "    # get result\n",
    "    data = r.json()\n",
    "    res = data[\"result\"]\n",
    "    return res"
   ]
  },
  {
   "cell_type": "markdown",
   "id": "3aff417f",
   "metadata": {},
   "source": [
    "## Get list of categoryId from Uniqlo Official Website"
   ]
  },
  {
   "cell_type": "code",
   "execution_count": 3,
   "id": "689b555b",
   "metadata": {},
   "outputs": [],
   "source": [
    "category_dict_women = {\n",
    "    \"outwear\": 23327,\n",
    "    \"tops\": 23332,\n",
    "    \"bottoms\": 23338,\n",
    "    \"dresses_jumpsuits\": 23346,\n",
    "    \"innner_wear\": 23347,\n",
    "    \"loungewear_home\": 23356,\n",
    "    \"accessories_shoes\": 23359,\n",
    "    \"sport_utility_wear\": 23363,\n",
    "    \"maternity\": 23364,\n",
    "}\n",
    "\n",
    "category_dict_men = {\n",
    "    \"outwear\": 23377,\n",
    "    \"tops\": 23383,\n",
    "    \"bottoms\": 23391,\n",
    "    \"innner_wear\": 23398,\n",
    "    \"loungewear_home\": 23404,\n",
    "    \"accessories_shoes\": 23407,\n",
    "    \"sport_utility_wear\": 23412,\n",
    "}"
   ]
  },
  {
   "cell_type": "markdown",
   "id": "676ea68c",
   "metadata": {},
   "source": [
    "## Get list of productId for each category"
   ]
  },
  {
   "cell_type": "code",
   "execution_count": 4,
   "id": "8e434fac",
   "metadata": {},
   "outputs": [],
   "source": [
    "def getProductIDs(categroyId, offset):\n",
    "    # get response\n",
    "    URL = \"https://www.uniqlo.com/us/api/commerce/v5/en/products?path=%2C%2C\" + categroyId + \"&categoryId=\" + categroyId + \"&offset=\" + offset + \"&limit=36&httpFailure=true\"\n",
    "    res = getResponse(URL)\n",
    "    # check if it's has next page\n",
    "    total = res[\"pagination\"][\"total\"]\n",
    "    count = res[\"pagination\"][\"count\"]\n",
    "    hasNextPage = True if int(offset) + count < total else False\n",
    "    # get productIds\n",
    "    productIds = []\n",
    "    for item in res[\"items\"]:\n",
    "        productIds.append(item[\"productId\"])\n",
    "    return productIds, hasNextPage\n",
    "\n",
    "def getProductIDsByCategroy(category_dict):\n",
    "    # for each categroyId, get all productIds\n",
    "    ctgToPd = {} # dict: categroyId to productIds\n",
    "    for key, value in category_dict.items():\n",
    "        # get all productIds\n",
    "        productIds = set()\n",
    "        hasNextPage, offset = True, 0\n",
    "        # keep fetch pages if there's next page\n",
    "        while (hasNextPage):\n",
    "            ids, hasNextPage = getProductIDs(str(value), str(offset))\n",
    "            offset += 36 # get 36 more products\n",
    "            productIds = productIds.union(ids)\n",
    "        ctgToPd[value] = productIds # store all productIds in the dict\n",
    "    return ctgToPd"
   ]
  },
  {
   "cell_type": "markdown",
   "id": "45699722",
   "metadata": {},
   "source": [
    "## Get reviews for each product"
   ]
  },
  {
   "cell_type": "code",
   "execution_count": 5,
   "id": "8d7798c1",
   "metadata": {},
   "outputs": [],
   "source": [
    "def getProductReview(productID=\"E439807-000\", offset=\"0\"):\n",
    "    # get response\n",
    "    URL = \"https://www.uniqlo.com/us/api/commerce/v5/en/products/\" + productID + \"/reviews?offset=\" + offset + \"&limit=10&sort=submission_time&httpFailure=true\"\n",
    "    res = getResponse(URL)\n",
    "    # check if it's has next page\n",
    "    total = res[\"pagination\"][\"total\"]\n",
    "    count = res[\"pagination\"][\"count\"]\n",
    "    hasNextPage = True if int(offset) + count < total else False\n",
    "    # get comments and ratings\n",
    "    reviews = res[\"reviews\"]\n",
    "    rating = res[\"rating\"]\n",
    "    return reviews, rating, hasNextPage \n",
    "\n",
    "def getReviewsByCategory(ctgToPd):\n",
    "    reviews_dict = {}\n",
    "    # for each categroyId, loop through all products\n",
    "    for key, value in ctgToPd.items():\n",
    "        categroyId, productIds = key, value\n",
    "        # for each product, loop all reviews\n",
    "        reviews_dict[categroyId] = {}\n",
    "        for productId in productIds:\n",
    "            hasNextPage, offset = True, 0\n",
    "            # keep fetch pages if there's next page\n",
    "            reviews = []\n",
    "            rating = {}\n",
    "            while(hasNextPage):\n",
    "                new_reviews, new_rating, hasNextPage = getProductReview(productId, str(offset))\n",
    "                offset += 10 # get 10 more products\n",
    "                reviews += new_reviews\n",
    "                rating = new_rating\n",
    "            reviews_dict[categroyId][productId] = {\"reviews\": reviews, \"rating\": rating}\n",
    "    return reviews_dict"
   ]
  },
  {
   "cell_type": "markdown",
   "id": "5547e646",
   "metadata": {},
   "source": [
    "# 2. WRITE DATA TO CSV"
   ]
  },
  {
   "cell_type": "code",
   "execution_count": 6,
   "id": "b24eed2b",
   "metadata": {},
   "outputs": [],
   "source": [
    "import csv \n",
    "\n",
    "def writeDataToCSV(reviews_dict, filename):\n",
    "    rows = []\n",
    "    for key, value in reviews_dict.items():\n",
    "        categroyId, pdToReviews = key, value\n",
    "        for key, value in pdToReviews.items():\n",
    "            productId, obj = key, value\n",
    "            reviews, rating = obj[\"reviews\"], obj[\"rating\"] \n",
    "            rating_average, rating_count, rating_fit = rating[\"average\"], rating[\"count\"], rating[\"fit\"]\n",
    "            rating_1, rating_2, rating_3, rating_4, rating_5 =  rating[\"rateCount\"][\"one\"], rating[\"rateCount\"][\"two\"], rating[\"rateCount\"][\"three\"], rating[\"rateCount\"][\"four\"], rating[\"rateCount\"][\"five\"]\n",
    "            for review in reviews:\n",
    "                reviewId, comment, title, rate, fit, heightRange, weightRange, shoeSize, purchasedSize, helpfulCount, ageRange, gender, location, name, createDate, isIncentivized, userCanLike, userCanReport = review[\"reviewId\"], review[\"comment\"], review[\"title\"], review[\"rate\"], review[\"fit\"], review[\"heightRange\"], review[\"weightRange\"], review[\"shoeSize\"], review[\"purchasedSize\"], review[\"helpfulCount\"], review[\"ageRange\"], review[\"gender\"], review[\"location\"], review[\"name\"], review[\"createDate\"], review[\"isIncentivized\"], review[\"userCanLike\"], review[\"userCanReport\"]\n",
    "                row = [reviewId, productId, categroyId, rate, fit, comment, title, \n",
    "                       rating_average, rating_count, rating_fit, rating_1, rating_2, rating_3, rating_4, rating_5, heightRange, weightRange, shoeSize, purchasedSize, helpfulCount, ageRange, gender, location, name, createDate, isIncentivized, userCanLike, userCanReport]\n",
    "                rows.append(row)\n",
    "                \n",
    "    # field names \n",
    "    fields = ['reviewId', 'productId', 'categroyId', 'rate', 'fit', 'comment', 'title', \n",
    "                       'rating_average', 'rating_count', 'rating_fit', 'rating_1', 'rating_2', 'rating_3', 'rating_4', 'rating_5', \n",
    "                          'heightRange', 'weightRange', 'shoeSize', 'purchasedSize', 'helpfulCount', \n",
    "                      'ageRange', 'gender', 'location', 'name', 'createDate', 'isIncentivized', 'userCanLike', 'userCanReport']\n",
    "\n",
    "    # writing to csv file \n",
    "    with open(filename, 'w') as csvfile: \n",
    "        # creating a csv writer object \n",
    "        csvwriter = csv.writer(csvfile) \n",
    "        # writing the fields \n",
    "        csvwriter.writerow(fields) \n",
    "        # writing the data rows \n",
    "        csvwriter.writerows(rows)"
   ]
  },
  {
   "cell_type": "markdown",
   "id": "2bbdc4e2",
   "metadata": {},
   "source": [
    "# 3. Create a Workflow"
   ]
  },
  {
   "cell_type": "code",
   "execution_count": 7,
   "id": "163de0ab",
   "metadata": {},
   "outputs": [],
   "source": [
    "def ETL(dic, filename):\n",
    "    ctgToPd = getProductIDsByCategroy(dic)\n",
    "    reviews_dict = getReviewsByCategory(ctgToPd)\n",
    "    writeDataToCSV(reviews_dict, filename)\n",
    "\n",
    "ETL(category_dict_women, \"uniqlo_reviews_women.csv\")\n",
    "ETL(category_dict_men, \"uniqlo_reviews_men.csv\")"
   ]
  },
  {
   "cell_type": "code",
   "execution_count": null,
   "id": "b798feee",
   "metadata": {},
   "outputs": [],
   "source": []
  }
 ],
 "metadata": {
  "kernelspec": {
   "display_name": "Python 3",
   "language": "python",
   "name": "python3"
  },
  "language_info": {
   "codemirror_mode": {
    "name": "ipython",
    "version": 3
   },
   "file_extension": ".py",
   "mimetype": "text/x-python",
   "name": "python",
   "nbconvert_exporter": "python",
   "pygments_lexer": "ipython3",
   "version": "3.8.8"
  }
 },
 "nbformat": 4,
 "nbformat_minor": 5
}
